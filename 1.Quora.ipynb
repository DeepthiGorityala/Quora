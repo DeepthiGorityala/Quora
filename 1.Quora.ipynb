{
 "cells": [
  {
   "cell_type": "code",
   "execution_count": null,
   "id": "3baf35c1",
   "metadata": {},
   "outputs": [],
   "source": []
  },
  {
   "cell_type": "code",
   "execution_count": null,
   "id": "9bf5dd38",
   "metadata": {},
   "outputs": [],
   "source": []
  },
  {
   "cell_type": "code",
   "execution_count": 1,
   "id": "7b89b14b",
   "metadata": {},
   "outputs": [],
   "source": [
    "### import all the necessary libraries\n",
    "import pandas as pd\n",
    "import numpy as np\n",
    "import matplotlib.pyplot as plt\n",
    "import seaborn as sns"
   ]
  },
  {
   "cell_type": "code",
   "execution_count": 2,
   "id": "ad4d0745",
   "metadata": {},
   "outputs": [],
   "source": [
    "df=pd.read_csv(r'F:\\Learn_ai_ml_da\\Quora\\Raw_data/train.csv')"
   ]
  },
  {
   "cell_type": "code",
   "execution_count": 3,
   "id": "f8bdd90f",
   "metadata": {},
   "outputs": [
    {
     "data": {
      "text/html": [
       "<div>\n",
       "<style scoped>\n",
       "    .dataframe tbody tr th:only-of-type {\n",
       "        vertical-align: middle;\n",
       "    }\n",
       "\n",
       "    .dataframe tbody tr th {\n",
       "        vertical-align: top;\n",
       "    }\n",
       "\n",
       "    .dataframe thead th {\n",
       "        text-align: right;\n",
       "    }\n",
       "</style>\n",
       "<table border=\"1\" class=\"dataframe\">\n",
       "  <thead>\n",
       "    <tr style=\"text-align: right;\">\n",
       "      <th></th>\n",
       "      <th>id</th>\n",
       "      <th>qid1</th>\n",
       "      <th>qid2</th>\n",
       "      <th>question1</th>\n",
       "      <th>question2</th>\n",
       "      <th>is_duplicate</th>\n",
       "    </tr>\n",
       "  </thead>\n",
       "  <tbody>\n",
       "    <tr>\n",
       "      <th>0</th>\n",
       "      <td>0</td>\n",
       "      <td>1</td>\n",
       "      <td>2</td>\n",
       "      <td>What is the step by step guide to invest in sh...</td>\n",
       "      <td>What is the step by step guide to invest in sh...</td>\n",
       "      <td>0</td>\n",
       "    </tr>\n",
       "    <tr>\n",
       "      <th>1</th>\n",
       "      <td>1</td>\n",
       "      <td>3</td>\n",
       "      <td>4</td>\n",
       "      <td>What is the story of Kohinoor (Koh-i-Noor) Dia...</td>\n",
       "      <td>What would happen if the Indian government sto...</td>\n",
       "      <td>0</td>\n",
       "    </tr>\n",
       "    <tr>\n",
       "      <th>2</th>\n",
       "      <td>2</td>\n",
       "      <td>5</td>\n",
       "      <td>6</td>\n",
       "      <td>How can I increase the speed of my internet co...</td>\n",
       "      <td>How can Internet speed be increased by hacking...</td>\n",
       "      <td>0</td>\n",
       "    </tr>\n",
       "  </tbody>\n",
       "</table>\n",
       "</div>"
      ],
      "text/plain": [
       "   id  qid1  qid2                                          question1  \\\n",
       "0   0     1     2  What is the step by step guide to invest in sh...   \n",
       "1   1     3     4  What is the story of Kohinoor (Koh-i-Noor) Dia...   \n",
       "2   2     5     6  How can I increase the speed of my internet co...   \n",
       "\n",
       "                                           question2  is_duplicate  \n",
       "0  What is the step by step guide to invest in sh...             0  \n",
       "1  What would happen if the Indian government sto...             0  \n",
       "2  How can Internet speed be increased by hacking...             0  "
      ]
     },
     "execution_count": 3,
     "metadata": {},
     "output_type": "execute_result"
    }
   ],
   "source": [
    "df.head(3)"
   ]
  },
  {
   "cell_type": "code",
   "execution_count": 4,
   "id": "ef72ac44",
   "metadata": {},
   "outputs": [
    {
     "data": {
      "text/plain": [
       "(404290, 6)"
      ]
     },
     "execution_count": 4,
     "metadata": {},
     "output_type": "execute_result"
    }
   ],
   "source": [
    "df.shape"
   ]
  },
  {
   "cell_type": "code",
   "execution_count": 5,
   "id": "eef98669",
   "metadata": {},
   "outputs": [
    {
     "name": "stdout",
     "output_type": "stream",
     "text": [
      "<class 'pandas.core.frame.DataFrame'>\n",
      "RangeIndex: 404290 entries, 0 to 404289\n",
      "Data columns (total 6 columns):\n",
      " #   Column        Non-Null Count   Dtype \n",
      "---  ------        --------------   ----- \n",
      " 0   id            404290 non-null  int64 \n",
      " 1   qid1          404290 non-null  int64 \n",
      " 2   qid2          404290 non-null  int64 \n",
      " 3   question1     404289 non-null  object\n",
      " 4   question2     404288 non-null  object\n",
      " 5   is_duplicate  404290 non-null  int64 \n",
      "dtypes: int64(4), object(2)\n",
      "memory usage: 18.5+ MB\n"
     ]
    }
   ],
   "source": [
    "## to get high level view overview of your data\n",
    "df.info()"
   ]
  },
  {
   "cell_type": "code",
   "execution_count": 6,
   "id": "691f5abd",
   "metadata": {},
   "outputs": [
    {
     "data": {
      "text/plain": [
       "Index(['id', 'qid1', 'qid2', 'question1', 'question2', 'is_duplicate'], dtype='object')"
      ]
     },
     "execution_count": 6,
     "metadata": {},
     "output_type": "execute_result"
    }
   ],
   "source": [
    "df.columns"
   ]
  },
  {
   "cell_type": "code",
   "execution_count": null,
   "id": "748af384",
   "metadata": {},
   "outputs": [],
   "source": []
  },
  {
   "cell_type": "markdown",
   "id": "dc5fbf43",
   "metadata": {},
   "source": [
    "### Distribution of data points among output classes"
   ]
  },
  {
   "cell_type": "code",
   "execution_count": 10,
   "id": "f1a6af9a",
   "metadata": {},
   "outputs": [
    {
     "data": {
      "text/plain": [
       "0    255027\n",
       "1    149263\n",
       "Name: is_duplicate, dtype: int64"
      ]
     },
     "execution_count": 10,
     "metadata": {},
     "output_type": "execute_result"
    }
   ],
   "source": [
    "df['is_duplicate'].value_counts()"
   ]
  },
  {
   "cell_type": "code",
   "execution_count": 9,
   "id": "4af012eb",
   "metadata": {},
   "outputs": [
    {
     "data": {
      "text/plain": [
       "<AxesSubplot:>"
      ]
     },
     "execution_count": 9,
     "metadata": {},
     "output_type": "execute_result"
    },
    {
     "data": {
      "image/png": "[encoded data removed]",
      "text/plain": [
       "<Figure size 432x288 with 1 Axes>"
      ]
     },
     "metadata": {
      "needs_background": "light"
     },
     "output_type": "display_data"
    }
   ],
   "source": [
    "df['is_duplicate'].value_counts().plot(kind='bar')"
   ]
  },
  {
   "cell_type": "code",
   "execution_count": 13,
   "id": "62207182",
   "metadata": {},
   "outputs": [
    {
     "data": {
      "text/plain": [
       "0    63.080215\n",
       "1    36.919785\n",
       "Name: is_duplicate, dtype: float64"
      ]
     },
     "execution_count": 13,
     "metadata": {},
     "output_type": "execute_result"
    }
   ],
   "source": [
    "(df['is_duplicate'].value_counts()/len(df))*100"
   ]
  },
  {
   "cell_type": "code",
   "execution_count": 14,
   "id": "f06458ea",
   "metadata": {},
   "outputs": [
    {
     "data": {
      "text/plain": [
       "404290"
      ]
     },
     "execution_count": 14,
     "metadata": {},
     "output_type": "execute_result"
    }
   ],
   "source": [
    "len(df)"
   ]
  },
  {
   "cell_type": "code",
   "execution_count": null,
   "id": "24dc6dcb",
   "metadata": {},
   "outputs": [],
   "source": []
  },
  {
   "cell_type": "markdown",
   "id": "b85d4d55",
   "metadata": {},
   "source": [
    "### Number of unique questions "
   ]
  },
  {
   "cell_type": "code",
   "execution_count": 16,
   "id": "c4a82410",
   "metadata": {},
   "outputs": [],
   "source": [
    "l1=df['qid1'].tolist()"
   ]
  },
  {
   "cell_type": "code",
   "execution_count": 19,
   "id": "e4d637e1",
   "metadata": {},
   "outputs": [],
   "source": [
    "l2=df['qid2'].tolist()"
   ]
  },
  {
   "cell_type": "code",
   "execution_count": 21,
   "id": "cb0a333f",
   "metadata": {},
   "outputs": [
    {
     "data": {
      "text/plain": [
       "808580"
      ]
     },
     "execution_count": 21,
     "metadata": {},
     "output_type": "execute_result"
    }
   ],
   "source": [
    "len(l1+l2)"
   ]
  },
  {
   "cell_type": "code",
   "execution_count": 23,
   "id": "a008c74d",
   "metadata": {},
   "outputs": [],
   "source": [
    "qids=pd.Series(l1+l2)"
   ]
  },
  {
   "cell_type": "code",
   "execution_count": 24,
   "id": "e26f2b2c",
   "metadata": {},
   "outputs": [
    {
     "data": {
      "text/plain": [
       "0              1\n",
       "1              3\n",
       "2              5\n",
       "3              7\n",
       "4              9\n",
       "           ...  \n",
       "808575    379845\n",
       "808576    155606\n",
       "808577    537929\n",
       "808578    537931\n",
       "808579    537933\n",
       "Length: 808580, dtype: int64"
      ]
     },
     "execution_count": 24,
     "metadata": {},
     "output_type": "execute_result"
    }
   ],
   "source": [
    "qids"
   ]
  },
  {
   "cell_type": "code",
   "execution_count": 27,
   "id": "8f0dbd7a",
   "metadata": {},
   "outputs": [],
   "source": [
    "## total unique questions\n",
    "unique_qs=len(np.unique(qids))"
   ]
  },
  {
   "cell_type": "code",
   "execution_count": 28,
   "id": "5a86126a",
   "metadata": {},
   "outputs": [
    {
     "data": {
      "text/plain": [
       "537933"
      ]
     },
     "execution_count": 28,
     "metadata": {},
     "output_type": "execute_result"
    }
   ],
   "source": [
    "unique_qs"
   ]
  },
  {
   "cell_type": "code",
   "execution_count": null,
   "id": "9a8fa4f5",
   "metadata": {},
   "outputs": [],
   "source": []
  },
  {
   "cell_type": "markdown",
   "id": "500d7e8c",
   "metadata": {},
   "source": [
    "### Number of unique questions that appear more than one time"
   ]
  },
  {
   "cell_type": "code",
   "execution_count": 30,
   "id": "2579708d",
   "metadata": {},
   "outputs": [
    {
     "data": {
      "text/plain": [
       "2559      157\n",
       "30782     120\n",
       "4044      111\n",
       "2561       88\n",
       "14376      79\n",
       "         ... \n",
       "212185      1\n",
       "210136      1\n",
       "214230      1\n",
       "220373      1\n",
       "2047        1\n",
       "Length: 537933, dtype: int64"
      ]
     },
     "execution_count": 30,
     "metadata": {},
     "output_type": "execute_result"
    }
   ],
   "source": [
    "qids.value_counts()"
   ]
  },
  {
   "cell_type": "code",
   "execution_count": 33,
   "id": "5a18bada",
   "metadata": {},
   "outputs": [],
   "source": [
    "qs_morethan_onetime=np.sum(qids.value_counts()>1)"
   ]
  },
  {
   "cell_type": "code",
   "execution_count": 34,
   "id": "9479fdd7",
   "metadata": {},
   "outputs": [
    {
     "data": {
      "text/plain": [
       "111780"
      ]
     },
     "execution_count": 34,
     "metadata": {},
     "output_type": "execute_result"
    }
   ],
   "source": [
    "qs_morethan_onetime"
   ]
  },
  {
   "cell_type": "code",
   "execution_count": 36,
   "id": "ad17ffcb",
   "metadata": {},
   "outputs": [
    {
     "data": {
      "text/plain": [
       "20.77953945937505"
      ]
     },
     "execution_count": 36,
     "metadata": {},
     "output_type": "execute_result"
    }
   ],
   "source": [
    "qs_morethan_onetime/unique_qs*100"
   ]
  },
  {
   "cell_type": "code",
   "execution_count": null,
   "id": "baaca773",
   "metadata": {},
   "outputs": [],
   "source": []
  },
  {
   "cell_type": "markdown",
   "id": "ff2cf2ec",
   "metadata": {},
   "source": [
    "### Max number of times a single question is repeated"
   ]
  },
  {
   "cell_type": "code",
   "execution_count": 37,
   "id": "6054de27",
   "metadata": {},
   "outputs": [
    {
     "data": {
      "text/plain": [
       "2559      157\n",
       "30782     120\n",
       "4044      111\n",
       "2561       88\n",
       "14376      79\n",
       "         ... \n",
       "212185      1\n",
       "210136      1\n",
       "214230      1\n",
       "220373      1\n",
       "2047        1\n",
       "Length: 537933, dtype: int64"
      ]
     },
     "execution_count": 37,
     "metadata": {},
     "output_type": "execute_result"
    }
   ],
   "source": [
    "qids.value_counts()\n"
   ]
  },
  {
   "cell_type": "markdown",
   "id": "2c190d7a",
   "metadata": {},
   "source": [
    "#### plot Repreated & unique questions"
   ]
  },
  {
   "cell_type": "code",
   "execution_count": 38,
   "id": "3e6111a0",
   "metadata": {},
   "outputs": [
    {
     "name": "stderr",
     "output_type": "stream",
     "text": [
      "C:\\Users\\mcr\\anaconda3\\lib\\site-packages\\seaborn\\_decorators.py:36: FutureWarning: Pass the following variables as keyword args: x, y. From version 0.12, the only valid positional argument will be `data`, and passing other arguments without an explicit keyword will result in an error or misinterpretation.\n",
      "  warnings.warn(\n"
     ]
    },
    {
     "data": {
      "text/plain": [
       "<AxesSubplot:>"
      ]
     },
     "execution_count": 38,
     "metadata": {},
     "output_type": "execute_result"
    },
    {
     "data": {
      "image/png": "[encoded data removed]",
      "text/plain": [
       "<Figure size 432x288 with 1 Axes>"
      ]
     },
     "metadata": {
      "needs_background": "light"
     },
     "output_type": "display_data"
    }
   ],
   "source": [
    "x=['Unique_questions','Repeated_questions']\n",
    "y=[unique_qs,qs_morethan_onetime]\n",
    "\n",
    "sns.barplot(x,y)"
   ]
  },
  {
   "cell_type": "code",
   "execution_count": null,
   "id": "e2adda04",
   "metadata": {},
   "outputs": [],
   "source": []
  },
  {
   "cell_type": "markdown",
   "id": "8a27bf43",
   "metadata": {},
   "source": [
    "### Checking for Duplicates "
   ]
  },
  {
   "cell_type": "code",
   "execution_count": 39,
   "id": "bcb8c654",
   "metadata": {},
   "outputs": [
    {
     "data": {
      "text/plain": [
       "Index(['id', 'qid1', 'qid2', 'question1', 'question2', 'is_duplicate'], dtype='object')"
      ]
     },
     "execution_count": 39,
     "metadata": {},
     "output_type": "execute_result"
    }
   ],
   "source": [
    "df.columns"
   ]
  },
  {
   "cell_type": "code",
   "execution_count": 43,
   "id": "96bfa8da",
   "metadata": {},
   "outputs": [],
   "source": [
    "#checking whether there are any repeated pair of questions\n",
    "pair_duplicates=df[['qid1', 'qid2','is_duplicate']].groupby(['qid1', 'qid2']).count()"
   ]
  },
  {
   "cell_type": "code",
   "execution_count": 44,
   "id": "29b0b89d",
   "metadata": {},
   "outputs": [
    {
     "data": {
      "text/html": [
       "<div>\n",
       "<style scoped>\n",
       "    .dataframe tbody tr th:only-of-type {\n",
       "        vertical-align: middle;\n",
       "    }\n",
       "\n",
       "    .dataframe tbody tr th {\n",
       "        vertical-align: top;\n",
       "    }\n",
       "\n",
       "    .dataframe thead th {\n",
       "        text-align: right;\n",
       "    }\n",
       "</style>\n",
       "<table border=\"1\" class=\"dataframe\">\n",
       "  <thead>\n",
       "    <tr style=\"text-align: right;\">\n",
       "      <th></th>\n",
       "      <th></th>\n",
       "      <th>is_duplicate</th>\n",
       "    </tr>\n",
       "    <tr>\n",
       "      <th>qid1</th>\n",
       "      <th>qid2</th>\n",
       "      <th></th>\n",
       "    </tr>\n",
       "  </thead>\n",
       "  <tbody>\n",
       "    <tr>\n",
       "      <th>1</th>\n",
       "      <th>2</th>\n",
       "      <td>1</td>\n",
       "    </tr>\n",
       "    <tr>\n",
       "      <th rowspan=\"4\" valign=\"top\">3</th>\n",
       "      <th>4</th>\n",
       "      <td>1</td>\n",
       "    </tr>\n",
       "    <tr>\n",
       "      <th>282170</th>\n",
       "      <td>1</td>\n",
       "    </tr>\n",
       "    <tr>\n",
       "      <th>380197</th>\n",
       "      <td>1</td>\n",
       "    </tr>\n",
       "    <tr>\n",
       "      <th>488853</th>\n",
       "      <td>1</td>\n",
       "    </tr>\n",
       "    <tr>\n",
       "      <th>...</th>\n",
       "      <th>...</th>\n",
       "      <td>...</td>\n",
       "    </tr>\n",
       "    <tr>\n",
       "      <th>537924</th>\n",
       "      <th>537925</th>\n",
       "      <td>1</td>\n",
       "    </tr>\n",
       "    <tr>\n",
       "      <th>537926</th>\n",
       "      <th>537927</th>\n",
       "      <td>1</td>\n",
       "    </tr>\n",
       "    <tr>\n",
       "      <th>537928</th>\n",
       "      <th>537929</th>\n",
       "      <td>1</td>\n",
       "    </tr>\n",
       "    <tr>\n",
       "      <th>537930</th>\n",
       "      <th>537931</th>\n",
       "      <td>1</td>\n",
       "    </tr>\n",
       "    <tr>\n",
       "      <th>537932</th>\n",
       "      <th>537933</th>\n",
       "      <td>1</td>\n",
       "    </tr>\n",
       "  </tbody>\n",
       "</table>\n",
       "<p>404290 rows × 1 columns</p>\n",
       "</div>"
      ],
      "text/plain": [
       "               is_duplicate\n",
       "qid1   qid2                \n",
       "1      2                  1\n",
       "3      4                  1\n",
       "       282170             1\n",
       "       380197             1\n",
       "       488853             1\n",
       "...                     ...\n",
       "537924 537925             1\n",
       "537926 537927             1\n",
       "537928 537929             1\n",
       "537930 537931             1\n",
       "537932 537933             1\n",
       "\n",
       "[404290 rows x 1 columns]"
      ]
     },
     "execution_count": 44,
     "metadata": {},
     "output_type": "execute_result"
    }
   ],
   "source": [
    "pair_duplicates"
   ]
  },
  {
   "cell_type": "code",
   "execution_count": null,
   "id": "78dc0b61",
   "metadata": {},
   "outputs": [],
   "source": []
  },
  {
   "cell_type": "markdown",
   "id": "3b745cc7",
   "metadata": {},
   "source": [
    "### Number of occurrences of each question "
   ]
  },
  {
   "cell_type": "code",
   "execution_count": 46,
   "id": "e32f79f3",
   "metadata": {},
   "outputs": [
    {
     "data": {
      "text/plain": [
       "2559      157\n",
       "30782     120\n",
       "4044      111\n",
       "2561       88\n",
       "14376      79\n",
       "         ... \n",
       "212185      1\n",
       "210136      1\n",
       "214230      1\n",
       "220373      1\n",
       "2047        1\n",
       "Length: 537933, dtype: int64"
      ]
     },
     "execution_count": 46,
     "metadata": {},
     "output_type": "execute_result"
    }
   ],
   "source": [
    "qids.value_counts()"
   ]
  },
  {
   "cell_type": "code",
   "execution_count": 48,
   "id": "44af77a1",
   "metadata": {},
   "outputs": [
    {
     "data": {
      "text/plain": [
       "(array([4.26153e+05, 6.47670e+04, 2.12260e+04, 9.34500e+03, 4.86500e+03,\n",
       "        2.84600e+03, 1.84200e+03, 1.30800e+03, 9.29000e+02, 6.93000e+02,\n",
       "        5.78000e+02, 4.80000e+02, 3.87000e+02, 3.21000e+02, 2.70000e+02,\n",
       "        1.99000e+02, 1.92000e+02, 1.87000e+02, 1.53000e+02, 1.54000e+02,\n",
       "        1.13000e+02, 1.03000e+02, 1.05000e+02, 8.80000e+01, 7.50000e+01,\n",
       "        5.80000e+01, 6.60000e+01, 4.70000e+01, 3.20000e+01, 3.00000e+01,\n",
       "        3.50000e+01, 3.60000e+01, 3.90000e+01, 2.00000e+01, 1.80000e+01,\n",
       "        1.10000e+01, 1.20000e+01, 1.20000e+01, 7.00000e+00, 0.00000e+00,\n",
       "        8.00000e+00, 2.00000e+01, 1.50000e+01, 1.00000e+01, 8.00000e+00,\n",
       "        8.00000e+00, 8.00000e+00, 5.00000e+00, 3.00000e+00, 9.00000e+00,\n",
       "        5.00000e+00, 7.00000e+00, 3.00000e+00, 1.00000e+00, 4.00000e+00,\n",
       "        4.00000e+00, 1.00000e+00, 1.00000e+00, 1.00000e+00, 0.00000e+00,\n",
       "        0.00000e+00, 1.00000e+00, 0.00000e+00, 1.00000e+00, 0.00000e+00,\n",
       "        0.00000e+00, 1.00000e+00, 0.00000e+00, 1.00000e+00, 0.00000e+00,\n",
       "        0.00000e+00, 0.00000e+00, 0.00000e+00, 0.00000e+00, 0.00000e+00,\n",
       "        0.00000e+00, 0.00000e+00, 1.00000e+00, 0.00000e+00, 0.00000e+00,\n",
       "        1.00000e+00, 0.00000e+00, 0.00000e+00, 0.00000e+00, 0.00000e+00,\n",
       "        0.00000e+00, 0.00000e+00, 0.00000e+00, 0.00000e+00, 1.00000e+00,\n",
       "        0.00000e+00, 0.00000e+00, 0.00000e+00, 0.00000e+00, 0.00000e+00,\n",
       "        0.00000e+00, 0.00000e+00, 0.00000e+00, 0.00000e+00, 0.00000e+00,\n",
       "        0.00000e+00, 0.00000e+00, 0.00000e+00, 0.00000e+00, 0.00000e+00,\n",
       "        0.00000e+00, 0.00000e+00, 0.00000e+00, 0.00000e+00, 0.00000e+00,\n",
       "        0.00000e+00, 0.00000e+00, 1.00000e+00, 0.00000e+00, 0.00000e+00,\n",
       "        0.00000e+00, 0.00000e+00, 0.00000e+00, 0.00000e+00, 0.00000e+00,\n",
       "        0.00000e+00, 0.00000e+00, 1.00000e+00, 0.00000e+00, 0.00000e+00,\n",
       "        0.00000e+00, 0.00000e+00, 0.00000e+00, 0.00000e+00, 0.00000e+00,\n",
       "        0.00000e+00, 0.00000e+00, 0.00000e+00, 0.00000e+00, 0.00000e+00,\n",
       "        0.00000e+00, 0.00000e+00, 0.00000e+00, 0.00000e+00, 0.00000e+00,\n",
       "        0.00000e+00, 0.00000e+00, 0.00000e+00, 0.00000e+00, 0.00000e+00,\n",
       "        0.00000e+00, 0.00000e+00, 0.00000e+00, 0.00000e+00, 0.00000e+00,\n",
       "        0.00000e+00, 0.00000e+00, 0.00000e+00, 0.00000e+00, 0.00000e+00,\n",
       "        0.00000e+00, 0.00000e+00, 0.00000e+00, 0.00000e+00, 1.00000e+00]),\n",
       " array([  1.   ,   1.975,   2.95 ,   3.925,   4.9  ,   5.875,   6.85 ,\n",
       "          7.825,   8.8  ,   9.775,  10.75 ,  11.725,  12.7  ,  13.675,\n",
       "         14.65 ,  15.625,  16.6  ,  17.575,  18.55 ,  19.525,  20.5  ,\n",
       "         21.475,  22.45 ,  23.425,  24.4  ,  25.375,  26.35 ,  27.325,\n",
       "         28.3  ,  29.275,  30.25 ,  31.225,  32.2  ,  33.175,  34.15 ,\n",
       "         35.125,  36.1  ,  37.075,  38.05 ,  39.025,  40.   ,  40.975,\n",
       "         41.95 ,  42.925,  43.9  ,  44.875,  45.85 ,  46.825,  47.8  ,\n",
       "         48.775,  49.75 ,  50.725,  51.7  ,  52.675,  53.65 ,  54.625,\n",
       "         55.6  ,  56.575,  57.55 ,  58.525,  59.5  ,  60.475,  61.45 ,\n",
       "         62.425,  63.4  ,  64.375,  65.35 ,  66.325,  67.3  ,  68.275,\n",
       "         69.25 ,  70.225,  71.2  ,  72.175,  73.15 ,  74.125,  75.1  ,\n",
       "         76.075,  77.05 ,  78.025,  79.   ,  79.975,  80.95 ,  81.925,\n",
       "         82.9  ,  83.875,  84.85 ,  85.825,  86.8  ,  87.775,  88.75 ,\n",
       "         89.725,  90.7  ,  91.675,  92.65 ,  93.625,  94.6  ,  95.575,\n",
       "         96.55 ,  97.525,  98.5  ,  99.475, 100.45 , 101.425, 102.4  ,\n",
       "        103.375, 104.35 , 105.325, 106.3  , 107.275, 108.25 , 109.225,\n",
       "        110.2  , 111.175, 112.15 , 113.125, 114.1  , 115.075, 116.05 ,\n",
       "        117.025, 118.   , 118.975, 119.95 , 120.925, 121.9  , 122.875,\n",
       "        123.85 , 124.825, 125.8  , 126.775, 127.75 , 128.725, 129.7  ,\n",
       "        130.675, 131.65 , 132.625, 133.6  , 134.575, 135.55 , 136.525,\n",
       "        137.5  , 138.475, 139.45 , 140.425, 141.4  , 142.375, 143.35 ,\n",
       "        144.325, 145.3  , 146.275, 147.25 , 148.225, 149.2  , 150.175,\n",
       "        151.15 , 152.125, 153.1  , 154.075, 155.05 , 156.025, 157.   ]),\n",
       " <BarContainer object of 160 artists>)"
      ]
     },
     "execution_count": 48,
     "metadata": {},
     "output_type": "execute_result"
    },
    {
     "data": {
      "image/png": "[encoded data removed]",
      "text/plain": [
       "<Figure size 864x576 with 1 Axes>"
      ]
     },
     "metadata": {
      "needs_background": "light"
     },
     "output_type": "display_data"
    }
   ],
   "source": [
    "plt.figure(figsize=(12,8))\n",
    "plt.hist(qids.value_counts(),bins=160)"
   ]
  },
  {
   "cell_type": "code",
   "execution_count": null,
   "id": "fe053c0d",
   "metadata": {},
   "outputs": [],
   "source": [
    "### to make this histogfram more clear , u can change y-scale to its log"
   ]
  },
  {
   "cell_type": "code",
   "execution_count": 50,
   "id": "15dac625",
   "metadata": {},
   "outputs": [
    {
     "data": {
      "text/plain": [
       "Text(0, 0.5, 'Number of questions')"
      ]
     },
     "execution_count": 50,
     "metadata": {},
     "output_type": "execute_result"
    },
    {
     "data": {
      "image/png": "[encoded data removed]",
      "text/plain": [
       "<Figure size 864x576 with 1 Axes>"
      ]
     },
     "metadata": {
      "needs_background": "light"
     },
     "output_type": "display_data"
    }
   ],
   "source": [
    "plt.figure(figsize=(12,8))\n",
    "plt.hist(qids.value_counts(),bins=160)\n",
    "plt.yscale('log')\n",
    "\n",
    "plt.title('Log hist of questions apperance counts')\n",
    "plt.xlabel('NO of occurences of questions')\n",
    "plt.ylabel('Number of questions')"
   ]
  },
  {
   "cell_type": "code",
   "execution_count": null,
   "id": "129780dd",
   "metadata": {},
   "outputs": [],
   "source": []
  },
  {
   "cell_type": "markdown",
   "id": "e39a917a",
   "metadata": {},
   "source": [
    "### Checking for NULL values"
   ]
  },
  {
   "cell_type": "code",
   "execution_count": 52,
   "id": "527cc795",
   "metadata": {},
   "outputs": [
    {
     "data": {
      "text/plain": [
       "id              False\n",
       "qid1            False\n",
       "qid2            False\n",
       "question1        True\n",
       "question2        True\n",
       "is_duplicate    False\n",
       "dtype: bool"
      ]
     },
     "execution_count": 52,
     "metadata": {},
     "output_type": "execute_result"
    }
   ],
   "source": [
    "df.isnull().any()"
   ]
  },
  {
   "cell_type": "code",
   "execution_count": 53,
   "id": "51b94e9e",
   "metadata": {},
   "outputs": [
    {
     "data": {
      "text/plain": [
       "2"
      ]
     },
     "execution_count": 53,
     "metadata": {},
     "output_type": "execute_result"
    }
   ],
   "source": [
    "## it means 2 features have NAN values\n",
    "df.isnull().any().sum()"
   ]
  },
  {
   "cell_type": "code",
   "execution_count": 54,
   "id": "1301d8b9",
   "metadata": {},
   "outputs": [
    {
     "data": {
      "text/plain": [
       "id              0\n",
       "qid1            0\n",
       "qid2            0\n",
       "question1       1\n",
       "question2       2\n",
       "is_duplicate    0\n",
       "dtype: int64"
      ]
     },
     "execution_count": 54,
     "metadata": {},
     "output_type": "execute_result"
    }
   ],
   "source": [
    "df.isnull().sum()"
   ]
  },
  {
   "cell_type": "code",
   "execution_count": 56,
   "id": "1a00ba8d",
   "metadata": {},
   "outputs": [
    {
     "data": {
      "text/html": [
       "<div>\n",
       "<style scoped>\n",
       "    .dataframe tbody tr th:only-of-type {\n",
       "        vertical-align: middle;\n",
       "    }\n",
       "\n",
       "    .dataframe tbody tr th {\n",
       "        vertical-align: top;\n",
       "    }\n",
       "\n",
       "    .dataframe thead th {\n",
       "        text-align: right;\n",
       "    }\n",
       "</style>\n",
       "<table border=\"1\" class=\"dataframe\">\n",
       "  <thead>\n",
       "    <tr style=\"text-align: right;\">\n",
       "      <th></th>\n",
       "      <th>id</th>\n",
       "      <th>qid1</th>\n",
       "      <th>qid2</th>\n",
       "      <th>question1</th>\n",
       "      <th>question2</th>\n",
       "      <th>is_duplicate</th>\n",
       "    </tr>\n",
       "  </thead>\n",
       "  <tbody>\n",
       "    <tr>\n",
       "      <th>363362</th>\n",
       "      <td>363362</td>\n",
       "      <td>493340</td>\n",
       "      <td>493341</td>\n",
       "      <td>NaN</td>\n",
       "      <td>My Chinese name is Haichao Yu. What English na...</td>\n",
       "      <td>0</td>\n",
       "    </tr>\n",
       "  </tbody>\n",
       "</table>\n",
       "</div>"
      ],
      "text/plain": [
       "            id    qid1    qid2 question1  \\\n",
       "363362  363362  493340  493341       NaN   \n",
       "\n",
       "                                                question2  is_duplicate  \n",
       "363362  My Chinese name is Haichao Yu. What English na...             0  "
      ]
     },
     "execution_count": 56,
     "metadata": {},
     "output_type": "execute_result"
    }
   ],
   "source": [
    "### Lets try to find out rows with null values in question2\n",
    "df[df['question1'].isnull()]"
   ]
  },
  {
   "cell_type": "code",
   "execution_count": 57,
   "id": "88a6acad",
   "metadata": {},
   "outputs": [],
   "source": [
    "# Filling the null values with ' '\n",
    "df.fillna('',inplace=True)"
   ]
  },
  {
   "cell_type": "code",
   "execution_count": 58,
   "id": "f2227d7a",
   "metadata": {},
   "outputs": [
    {
     "data": {
      "text/plain": [
       "id              0\n",
       "qid1            0\n",
       "qid2            0\n",
       "question1       0\n",
       "question2       0\n",
       "is_duplicate    0\n",
       "dtype: int64"
      ]
     },
     "execution_count": 58,
     "metadata": {},
     "output_type": "execute_result"
    }
   ],
   "source": [
    "df.isnull().sum()"
   ]
  },
  {
   "cell_type": "code",
   "execution_count": null,
   "id": "1ebc0a4d",
   "metadata": {},
   "outputs": [],
   "source": []
  },
  {
   "cell_type": "markdown",
   "id": "eca1166d",
   "metadata": {},
   "source": [
    "### Text analysis using WordCloud.."
   ]
  },
  {
   "cell_type": "code",
   "execution_count": 59,
   "id": "de07792a",
   "metadata": {},
   "outputs": [
    {
     "data": {
      "text/html": [
       "<div>\n",
       "<style scoped>\n",
       "    .dataframe tbody tr th:only-of-type {\n",
       "        vertical-align: middle;\n",
       "    }\n",
       "\n",
       "    .dataframe tbody tr th {\n",
       "        vertical-align: top;\n",
       "    }\n",
       "\n",
       "    .dataframe thead th {\n",
       "        text-align: right;\n",
       "    }\n",
       "</style>\n",
       "<table border=\"1\" class=\"dataframe\">\n",
       "  <thead>\n",
       "    <tr style=\"text-align: right;\">\n",
       "      <th></th>\n",
       "      <th>id</th>\n",
       "      <th>qid1</th>\n",
       "      <th>qid2</th>\n",
       "      <th>question1</th>\n",
       "      <th>question2</th>\n",
       "      <th>is_duplicate</th>\n",
       "    </tr>\n",
       "  </thead>\n",
       "  <tbody>\n",
       "    <tr>\n",
       "      <th>0</th>\n",
       "      <td>0</td>\n",
       "      <td>1</td>\n",
       "      <td>2</td>\n",
       "      <td>What is the step by step guide to invest in sh...</td>\n",
       "      <td>What is the step by step guide to invest in sh...</td>\n",
       "      <td>0</td>\n",
       "    </tr>\n",
       "    <tr>\n",
       "      <th>1</th>\n",
       "      <td>1</td>\n",
       "      <td>3</td>\n",
       "      <td>4</td>\n",
       "      <td>What is the story of Kohinoor (Koh-i-Noor) Dia...</td>\n",
       "      <td>What would happen if the Indian government sto...</td>\n",
       "      <td>0</td>\n",
       "    </tr>\n",
       "  </tbody>\n",
       "</table>\n",
       "</div>"
      ],
      "text/plain": [
       "   id  qid1  qid2                                          question1  \\\n",
       "0   0     1     2  What is the step by step guide to invest in sh...   \n",
       "1   1     3     4  What is the story of Kohinoor (Koh-i-Noor) Dia...   \n",
       "\n",
       "                                           question2  is_duplicate  \n",
       "0  What is the step by step guide to invest in sh...             0  \n",
       "1  What would happen if the Indian government sto...             0  "
      ]
     },
     "execution_count": 59,
     "metadata": {},
     "output_type": "execute_result"
    }
   ],
   "source": [
    "df.head(2)"
   ]
  },
  {
   "cell_type": "code",
   "execution_count": 64,
   "id": "af3ad652",
   "metadata": {},
   "outputs": [],
   "source": [
    "train_qs=pd.Series(list(df['question1']) + list(df['question2']))"
   ]
  },
  {
   "cell_type": "code",
   "execution_count": 65,
   "id": "72ae306c",
   "metadata": {},
   "outputs": [
    {
     "data": {
      "text/plain": [
       "0         What is the step by step guide to invest in sh...\n",
       "1         What is the story of Kohinoor (Koh-i-Noor) Dia...\n",
       "2         How can I increase the speed of my internet co...\n",
       "3         Why am I mentally very lonely? How can I solve...\n",
       "4         Which one dissolve in water quikly sugar, salt...\n",
       "                                ...                        \n",
       "808575    How many keywords are there in PERL Programmin...\n",
       "808576           Is it true that there is life after death?\n",
       "808577                                    What's this coin?\n",
       "808578    I am having little hairfall problem but I want...\n",
       "808579        What is it like to have sex with your cousin?\n",
       "Length: 808580, dtype: object"
      ]
     },
     "execution_count": 65,
     "metadata": {},
     "output_type": "execute_result"
    }
   ],
   "source": [
    "train_qs"
   ]
  },
  {
   "cell_type": "code",
   "execution_count": null,
   "id": "5a95b971",
   "metadata": {},
   "outputs": [],
   "source": []
  },
  {
   "cell_type": "code",
   "execution_count": 66,
   "id": "47f39142",
   "metadata": {},
   "outputs": [],
   "source": [
    "train_data_qs=\" \".join(train_qs)"
   ]
  },
  {
   "cell_type": "code",
   "execution_count": 68,
   "id": "a693c1a8",
   "metadata": {},
   "outputs": [
    {
     "data": {
      "text/plain": [
       "49179886"
      ]
     },
     "execution_count": 68,
     "metadata": {},
     "output_type": "execute_result"
    }
   ],
   "source": [
    "len(train_data_qs)"
   ]
  },
  {
   "cell_type": "code",
   "execution_count": null,
   "id": "24d1211d",
   "metadata": {},
   "outputs": [],
   "source": [
    "#!pip install wordcloud"
   ]
  },
  {
   "cell_type": "code",
   "execution_count": 70,
   "id": "ca6846c7",
   "metadata": {},
   "outputs": [],
   "source": [
    "from wordcloud import WordCloud"
   ]
  },
  {
   "cell_type": "code",
   "execution_count": 71,
   "id": "70ad8a87",
   "metadata": {},
   "outputs": [],
   "source": [
    "cloud=WordCloud(width=1440,height=1080).generate(train_data_qs)"
   ]
  },
  {
   "cell_type": "code",
   "execution_count": 73,
   "id": "46ecc8fb",
   "metadata": {},
   "outputs": [
    {
     "data": {
      "text/plain": [
       "(-0.5, 1439.5, 1079.5, -0.5)"
      ]
     },
     "execution_count": 73,
     "metadata": {},
     "output_type": "execute_result"
    },
    {
     "data": {
      "image/png": "[encoded data removed]",
      "text/plain": [
       "<Figure size 432x288 with 1 Axes>"
      ]
     },
     "metadata": {
      "needs_background": "light"
     },
     "output_type": "display_data"
    }
   ],
   "source": [
    "plt.imshow(cloud)\n",
    "plt.axis('off')"
   ]
  },
  {
   "cell_type": "code",
   "execution_count": null,
   "id": "a35741b5",
   "metadata": {},
   "outputs": [],
   "source": []
  },
  {
   "cell_type": "code",
   "execution_count": null,
   "id": "3cccf49a",
   "metadata": {},
   "outputs": [],
   "source": []
  },
  {
   "cell_type": "markdown",
   "id": "400b6a3c",
   "metadata": {},
   "source": [
    "### lets perform Semantic Analysis\n",
    "    e.g ,,1) How many questions textual contents actually belongs to interrogative sentences?\n",
    "          2) How many questions textual contents actually holds fullstop?\n",
    "          3) How many questions textual contents actually holds some special keyword like maths , ml ,ai etc?"
   ]
  },
  {
   "cell_type": "code",
   "execution_count": 74,
   "id": "3a2a8ecf",
   "metadata": {},
   "outputs": [
    {
     "data": {
      "text/plain": [
       "0         What is the step by step guide to invest in sh...\n",
       "1         What is the story of Kohinoor (Koh-i-Noor) Dia...\n",
       "2         How can I increase the speed of my internet co...\n",
       "3         Why am I mentally very lonely? How can I solve...\n",
       "4         Which one dissolve in water quikly sugar, salt...\n",
       "                                ...                        \n",
       "808575    How many keywords are there in PERL Programmin...\n",
       "808576           Is it true that there is life after death?\n",
       "808577                                    What's this coin?\n",
       "808578    I am having little hairfall problem but I want...\n",
       "808579        What is it like to have sex with your cousin?\n",
       "Length: 808580, dtype: object"
      ]
     },
     "execution_count": 74,
     "metadata": {},
     "output_type": "execute_result"
    }
   ],
   "source": [
    "train_qs"
   ]
  },
  {
   "cell_type": "code",
   "execution_count": 75,
   "id": "49049a2a",
   "metadata": {},
   "outputs": [
    {
     "data": {
      "text/plain": [
       "'What is the step by step guide to invest in share market in india?'"
      ]
     },
     "execution_count": 75,
     "metadata": {},
     "output_type": "execute_result"
    }
   ],
   "source": [
    "train_qs[0]"
   ]
  },
  {
   "cell_type": "code",
   "execution_count": 79,
   "id": "02379954",
   "metadata": {},
   "outputs": [
    {
     "data": {
      "text/plain": [
       "'What is the story of Kohinoor (Koh-i-Noor) Diamond?'"
      ]
     },
     "execution_count": 79,
     "metadata": {},
     "output_type": "execute_result"
    }
   ],
   "source": [
    "train_qs[1]"
   ]
  },
  {
   "cell_type": "code",
   "execution_count": null,
   "id": "dd5911b1",
   "metadata": {},
   "outputs": [],
   "source": []
  },
  {
   "cell_type": "code",
   "execution_count": 76,
   "id": "f0624742",
   "metadata": {},
   "outputs": [],
   "source": [
    "def find_semantics(x,symbol):\n",
    "    return symbol in x"
   ]
  },
  {
   "cell_type": "code",
   "execution_count": 77,
   "id": "6b14fbf9",
   "metadata": {},
   "outputs": [
    {
     "data": {
      "text/plain": [
       "True"
      ]
     },
     "execution_count": 77,
     "metadata": {},
     "output_type": "execute_result"
    }
   ],
   "source": [
    "find_semantics(train_qs[0],'?')"
   ]
  },
  {
   "cell_type": "code",
   "execution_count": 78,
   "id": "041ce36b",
   "metadata": {},
   "outputs": [
    {
     "data": {
      "text/plain": [
       "True"
      ]
     },
     "execution_count": 78,
     "metadata": {},
     "output_type": "execute_result"
    }
   ],
   "source": [
    "find_semantics(train_qs[1],'?')"
   ]
  },
  {
   "cell_type": "code",
   "execution_count": 80,
   "id": "564fafac",
   "metadata": {},
   "outputs": [
    {
     "data": {
      "text/plain": [
       "0         True\n",
       "1         True\n",
       "2         True\n",
       "3         True\n",
       "4         True\n",
       "          ... \n",
       "808575    True\n",
       "808576    True\n",
       "808577    True\n",
       "808578    True\n",
       "808579    True\n",
       "Length: 808580, dtype: bool"
      ]
     },
     "execution_count": 80,
     "metadata": {},
     "output_type": "execute_result"
    }
   ],
   "source": [
    "train_qs.apply(find_semantics,args='?')"
   ]
  },
  {
   "cell_type": "code",
   "execution_count": 82,
   "id": "93dadfc5",
   "metadata": {},
   "outputs": [
    {
     "data": {
      "text/plain": [
       "99.87385292735412"
      ]
     },
     "execution_count": 82,
     "metadata": {},
     "output_type": "execute_result"
    }
   ],
   "source": [
    "np.mean(train_qs.apply(find_semantics,args='?'))*100"
   ]
  },
  {
   "cell_type": "code",
   "execution_count": null,
   "id": "d69902e3",
   "metadata": {},
   "outputs": [],
   "source": []
  },
  {
   "cell_type": "code",
   "execution_count": 84,
   "id": "34b499dc",
   "metadata": {},
   "outputs": [],
   "source": [
    "qmarks=np.mean(train_qs.apply(lambda x:'?' in x))*100"
   ]
  },
  {
   "cell_type": "code",
   "execution_count": 85,
   "id": "4e0240b2",
   "metadata": {},
   "outputs": [
    {
     "data": {
      "text/plain": [
       "99.87385292735412"
      ]
     },
     "execution_count": 85,
     "metadata": {},
     "output_type": "execute_result"
    }
   ],
   "source": [
    "qmarks"
   ]
  },
  {
   "cell_type": "code",
   "execution_count": null,
   "id": "1892b8fe",
   "metadata": {},
   "outputs": [],
   "source": []
  },
  {
   "cell_type": "code",
   "execution_count": 86,
   "id": "58f45357",
   "metadata": {},
   "outputs": [
    {
     "data": {
      "text/plain": [
       "6.308219347498083"
      ]
     },
     "execution_count": 86,
     "metadata": {},
     "output_type": "execute_result"
    }
   ],
   "source": [
    "np.mean(train_qs.apply(lambda x:'.' in x))*100"
   ]
  },
  {
   "cell_type": "code",
   "execution_count": 87,
   "id": "befd34db",
   "metadata": {},
   "outputs": [
    {
     "data": {
      "text/plain": [
       "0.11736624700091518"
      ]
     },
     "execution_count": 87,
     "metadata": {},
     "output_type": "execute_result"
    }
   ],
   "source": [
    "np.mean(train_qs.apply(lambda x:'[math]' in x))*100"
   ]
  },
  {
   "cell_type": "code",
   "execution_count": null,
   "id": "dedfb5e0",
   "metadata": {},
   "outputs": [],
   "source": []
  },
  {
   "cell_type": "code",
   "execution_count": null,
   "id": "2d226293",
   "metadata": {},
   "outputs": [],
   "source": []
  },
  {
   "cell_type": "code",
   "execution_count": null,
   "id": "23722e09",
   "metadata": {},
   "outputs": [],
   "source": []
  }
 ],
 "metadata": {
  "kernelspec": {
   "display_name": "Python 3",
   "language": "python",
   "name": "python3"
  },
  "language_info": {
   "codemirror_mode": {
    "name": "ipython",
    "version": 3
   },
   "file_extension": ".py",
   "mimetype": "text/x-python",
   "name": "python",
   "nbconvert_exporter": "python",
   "pygments_lexer": "ipython3",
   "version": "3.8.8"
  }
 },
 "nbformat": 4,
 "nbformat_minor": 5
}
